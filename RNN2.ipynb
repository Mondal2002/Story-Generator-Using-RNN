{
 "cells": [
  {
   "cell_type": "code",
   "execution_count": 2,
   "metadata": {},
   "outputs": [
    {
     "name": "stdout",
     "output_type": "stream",
     "text": [
      "13820751\n"
     ]
    }
   ],
   "source": [
    "import os\n",
    "txt=\"C:/Users/Subham Mondal/Desktop/Subham Mondal/sherlockcompile.txt\"\n",
    "text=open(txt, \"r\")\n",
    "data=text.read()\n",
    "print(len(data))\n",
    "import numpy as np"
   ]
  },
  {
   "cell_type": "code",
   "execution_count": 3,
   "metadata": {},
   "outputs": [
    {
     "name": "stdout",
     "output_type": "stream",
     "text": [
      "\n",
      "\n",
      "\n",
      "\n",
      "                        THE ADVENTURE OF THE THREE GABLES\n",
      "\n",
      "                               Arthur Conan Doyle\n",
      "\n",
      "\n",
      "\n",
      "     I don't think that any of my adventures with Mr. Sherlock Holmes\n",
      "     opened quite so abruptly, or so dramatically, as that which\n"
     ]
    }
   ],
   "source": [
    "print(data[:250])\n",
    "import re\n",
    "def clean_text(text):\n",
    "  \"\"\"Removes punctuation and non-alphabetic characters from the given text.\"\"\"\n",
    "  pattern = re.compile(r\"[^\\w\\s]\")\n",
    "  return pattern.sub(\"\", text)\n",
    "\n",
    "# Clean the text\n",
    "clean_text = clean_text(data)\n"
   ]
  },
  {
   "cell_type": "code",
   "execution_count": 4,
   "metadata": {},
   "outputs": [
    {
     "name": "stdout",
     "output_type": "stream",
     "text": [
      "45\n"
     ]
    }
   ],
   "source": [
    "\n",
    "clean_text=clean_text.lower()\n",
    "\"\"\"print(clean_text[:2500])*/\"\"\"\n",
    "charnum=sorted(set(clean_text))\n",
    "print(len(charnum))\n"
   ]
  },
  {
   "cell_type": "code",
   "execution_count": 14,
   "metadata": {},
   "outputs": [
    {
     "name": "stdout",
     "output_type": "stream",
     "text": [
      "{0: '.', 1: 'N', 2: 'n', 3: 'Q', 4: 'T', 5: 'V', 6: '£', 7: ' ', 8: '&', 9: 'b', 10: 'q', 11: 'x', 12: 'S', 13: '*', 14: 'B', 15: '!', 16: '0', 17: '°', 18: '©', 19: 'M', 20: 'z', 21: 'ª', 22: 'E', 23: '¶', 24: 'i', 25: 'L', 26: 'c', 27: 'j', 28: '2', 29: 'Z', 30: 'I', 31: 'k', 32: 'Ã', 33: '/', 34: 'â', 35: '9', 36: ']', 37: '¨', 38: '7', 39: 'P', 40: 'l', 41: '»', 42: '¼', 43: 's', 44: 'Ÿ', 45: 'f', 46: 'o', 47: '¢', 48: 'O', 49: '´', 50: 'r', 51: '4', 52: '€', 53: '`', 54: '?', 55: '\"', 56: '\\xa0', 57: 'p', 58: '[', 59: '½', 60: 'R', 61: 'J', 62: 'g', 63: 'D', 64: '6', 65: ';', 66: 'U', 67: 'W', 68: 'A', 69: 'Y', 70: ':', 71: 'w', 72: 'X', 73: \"'\", 74: 'H', 75: '5', 76: 'e', 77: 'm', 78: '±', 79: 'y', 80: '™', 81: 'F', 82: 'u', 83: '-', 84: 'C', 85: 't', 86: 'v', 87: 'G', 88: ')', 89: 'Â', 90: '8', 91: 'K', 92: '\\n', 93: 'd', 94: '®', 95: '3', 96: '1', 97: 'a', 98: 'h', 99: ',', 100: '('}\n"
     ]
    }
   ],
   "source": [
    "# Extract unique characters from your input data (data) and create the charnum dictionary\n",
    "chartoidx=dict((c,i)for i,c in enumerate(charnum))\n",
    "idxtochar=dict((i,c)for i,c in enumerate(charnum))\n",
    "print(idxtochar)\n",
    "seq_length=40\n",
    "step_size=3\n",
    "sentence=[]\n",
    "nextchar=[]\n",
    "for i in range(0,seq_length,step_size):\n",
    "    sentence.append(data[i:i+seq_length])\n",
    "    nextchar.append(data[i+seq_length])\n",
    "X=np.zeros((len(sentence),seq_length,len(charnum)),dtype=np.bool_)\n",
    "\n",
    "Y=np.zeros((len(sentence),len(charnum)),dtype=np.bool_)\n",
    "\n",
    "for i,sentences in enumerate(sentence):\n",
    "    for t,characters in enumerate(sentences):\n",
    "        X[i,t,chartoidx[characters]]=1\n",
    "    Y[i,chartoidx[nextchar[i]]]=1"
   ]
  },
  {
   "cell_type": "code",
   "execution_count": 19,
   "metadata": {},
   "outputs": [
    {
     "name": "stderr",
     "output_type": "stream",
     "text": [
      "WARNING:absl:`lr` is deprecated in Keras optimizer, please use `learning_rate` or use the legacy optimizer, e.g.,tf.keras.optimizers.legacy.RMSprop.\n"
     ]
    },
    {
     "name": "stdout",
     "output_type": "stream",
     "text": [
      "Epoch 1/4\n",
      "1/1 [==============================] - 2s 2s/step - loss: 4.6057\n",
      "Epoch 2/4\n",
      "1/1 [==============================] - 0s 27ms/step - loss: 4.5058\n",
      "Epoch 3/4\n",
      "1/1 [==============================] - 0s 25ms/step - loss: 4.4094\n",
      "Epoch 4/4\n",
      "1/1 [==============================] - 0s 25ms/step - loss: 4.2463\n",
      "INFO:tensorflow:Assets written to: textgen.model\\assets\n"
     ]
    },
    {
     "name": "stderr",
     "output_type": "stream",
     "text": [
      "INFO:tensorflow:Assets written to: textgen.model\\assets\n"
     ]
    }
   ],
   "source": [
    "import tensorflow as tf\n",
    "from tensorflow.keras.models import Sequential\n",
    "from tensorflow.keras.layers import LSTM,Dense,Activation\n",
    "from tensorflow.keras.optimizers import RMSprop\n",
    "model=Sequential()\n",
    "model.add(LSTM(128,input_shape=(seq_length,len(charnum))))\n",
    "model.add(Dense(len(charnum)))\n",
    "model.add(Activation(\"Softmax\"))\n",
    "\n",
    "model.compile(loss='categorical_crossentropy',optimizer=RMSprop(lr=0.01))\n",
    "\n",
    "model.fit(X, Y, batch_size=256,epochs=4)\n",
    "model.save(\"textgen.model\")"
   ]
  },
  {
   "cell_type": "code",
   "execution_count": null,
   "metadata": {},
   "outputs": [],
   "source": [
    "import numpy as np\n",
    "import random\n",
    "def sample(preds,temperature=0.1):\n",
    "    preds=np.asarray(preds).astype('float64')\n",
    "    preds=np.log(preds)/temperature\n",
    "    exp_preds=np.exp(preds)\n",
    "    preds=exp_preds/np.sum(exp_preds)\n",
    "    probas=np.random.multinomial(1,preds,1)\n",
    "    return np.argmax(probas)"
   ]
  },
  {
   "cell_type": "code",
   "execution_count": null,
   "metadata": {},
   "outputs": [],
   "source": []
  }
 ],
 "metadata": {
  "kernelspec": {
   "display_name": "Python 3",
   "language": "python",
   "name": "python3"
  },
  "language_info": {
   "codemirror_mode": {
    "name": "ipython",
    "version": 3
   },
   "file_extension": ".py",
   "mimetype": "text/x-python",
   "name": "python",
   "nbconvert_exporter": "python",
   "pygments_lexer": "ipython3",
   "version": "3.10.0"
  },
  "orig_nbformat": 4
 },
 "nbformat": 4,
 "nbformat_minor": 2
}
